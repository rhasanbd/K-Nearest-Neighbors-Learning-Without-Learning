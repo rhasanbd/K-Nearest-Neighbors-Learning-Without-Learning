{
 "cells": [
  {
   "cell_type": "markdown",
   "metadata": {},
   "source": [
    "# KNN - Binary Classification - Iris Dataset\n",
    "\n",
    "In this notebook, we use Scikit-Learn to introduce various steps of Machine Learning for performing binary classification using the K Nearest Neighbors (K-NN) model. The steps include:\n",
    "\n",
    "- Creating a test dataset\n",
    "- Standardizing the dataset\n",
    "- Creating the KNN classifier model\n",
    "- Model selection via hyperparameter tuning (cross-validation)\n",
    "- Understanding the probabilistic prediction of the KNN model\n",
    "- Evaluate a KNN model using accuracy, precision, recall, F1 score, and confusion matrix\n",
    "- Creating the Receiver Operating Characteristic (ROC) curve & computing area under the curve (AUC) score\n",
    "- Creating the Precision-Recall curve \n",
    "- Determining the optimal threshold\n",
    "- Improve a model's performance by using its optimal threshold\n",
    "\n",
    "\n",
    "\n",
    "### Dataset\n",
    "\n",
    "We will use the Iris dataset, which is a multivariate data set. It is a famous dataset that contains the sepal and petal length and width of 150 Iris flowers of three different species: Iris-Setosa, Iris-Versicolor, and Iris-Virginica\n",
    "\n",
    "There are 4 features: \n",
    "- sepal length (cm)\n",
    "- sepal width (cm)\n",
    "- petal length (cm)\n",
    "- petal width (cm)\n",
    "\n",
    "Total number of samples: 150\n",
    "\n",
    "The target (label) is coded as follows:\n",
    "- Setosa: 0\n",
    "- Versicolor: 1\n",
    "- Virginica: 2\n",
    "\n",
    "\n",
    "The dataset is also known as Fisher's Iris data set as it was introduced by the British statistician and biologist Ronald Fisher in his 1936 paper \"The use of multiple measurements in taxonomic problems as an example of linear discriminant analysis\".\n",
    "\n",
    "\n",
    "<img src=\"http://engineering.unl.edu/images/uploads/IrisFlowers.png\" width=800, height=400>\n",
    "\n",
    "\n",
    "\n",
    "\n",
    "### Binary Classification\n",
    "\n",
    "We will use Scikit-Learn's K-NN classifier (KNeighborsClassifier) to detect the **Iris-Virginica type**."
   ]
  },
  {
   "cell_type": "code",
   "execution_count": 1,
   "metadata": {},
   "outputs": [],
   "source": [
    "import warnings\n",
    "import numpy as np\n",
    "import pandas as pd\n",
    "import matplotlib.pyplot as plt\n",
    "from sklearn import datasets\n",
    "from sklearn.preprocessing import StandardScaler\n",
    "from sklearn.neighbors import KNeighborsClassifier\n",
    "from sklearn.model_selection import train_test_split, GridSearchCV, cross_val_score, cross_val_predict\n",
    "from sklearn.metrics import confusion_matrix, precision_score, recall_score, f1_score, roc_curve, roc_auc_score\n",
    "from sklearn.metrics import precision_recall_curve, classification_report"
   ]
  },
  {
   "cell_type": "markdown",
   "metadata": {},
   "source": [
    "## Load Data\n",
    "\n",
    "First load the data and explore the feature names, target names, etc."
   ]
  },
  {
   "cell_type": "code",
   "execution_count": 2,
   "metadata": {
    "scrolled": true
   },
   "outputs": [
    {
     "name": "stdout",
     "output_type": "stream",
     "text": [
      "\n",
      "Key Values: \n",
      " ['data', 'target', 'frame', 'target_names', 'DESCR', 'feature_names', 'filename']\n",
      "\n",
      "Feature Names: \n",
      " ['sepal length (cm)', 'sepal width (cm)', 'petal length (cm)', 'petal width (cm)']\n",
      "\n",
      "Target Names: \n",
      " ['setosa', 'versicolor', 'virginica']\n"
     ]
    }
   ],
   "source": [
    "iris = datasets.load_iris()\n",
    "\n",
    "# See the key values\n",
    "print(\"\\nKey Values: \\n\", list(iris.keys()))\n",
    "\n",
    "# The feature names\n",
    "print(\"\\nFeature Names: \\n\", list(iris.feature_names))\n",
    "\n",
    "# The target names\n",
    "print(\"\\nTarget Names: \\n\", list(iris.target_names))\n",
    "\n",
    "# The target values (codes)\n",
    "#print(\"\\nTarget Values: \\n\", list(iris.target))"
   ]
  },
  {
   "cell_type": "markdown",
   "metadata": {},
   "source": [
    "## Create the Data Matrix (X) and the Target Array (y)\n",
    "\n",
    "Recall that our goal is to detect the Iris-Virginica type. In the above Target array, the index for Virginica is 2.\n",
    "\n",
    "Thus, we create a binary target vector by putting 1 if the target value is 2 (Iris-Virginica), else we put 0."
   ]
  },
  {
   "cell_type": "code",
   "execution_count": 3,
   "metadata": {},
   "outputs": [
    {
     "name": "stdout",
     "output_type": "stream",
     "text": [
      "(150, 4)\n",
      "(150,)\n",
      "\n",
      "X data type:  float64\n",
      "y data type:  int64\n"
     ]
    }
   ],
   "source": [
    "# Data Matrix\n",
    "X = iris[\"data\"]\n",
    "\n",
    "# Target Array\n",
    "y = (iris[\"target\"] == 2).astype(np.int)  # 1 if Iris-Virginica, else 0\n",
    "\n",
    "print(X.shape)\n",
    "print(y.shape)\n",
    "\n",
    "print(\"\\nX data type: \", X.dtype)\n",
    "print(\"y data type: \", y.dtype)"
   ]
  },
  {
   "cell_type": "markdown",
   "metadata": {},
   "source": [
    "## Create Train and Test Dataset\n",
    "\n",
    "We use sklearn's **train_test_split()** function to spilt the dataset into training and test subsets. \n",
    "\n",
    "- The data is shuffled by default before splitting.\n",
    "\n",
    "This function splits arrays or matrices into **random** train and test subsets.\n",
    "\n",
    "For the **reproducibility of the results**, we need to use the same seed for the random number generator. The seed is set by the \"random_state\" parameter of the split function. \n",
    "\n",
    "However, in repeated experiments if we don't want to use the same train and test subsets, then we drop the \"random_state\" parameter from the function."
   ]
  },
  {
   "cell_type": "code",
   "execution_count": 4,
   "metadata": {},
   "outputs": [],
   "source": [
    "X_train, X_test, y_train, y_test = train_test_split(X, y, test_size=0.2, random_state=0)"
   ]
  },
  {
   "cell_type": "markdown",
   "metadata": {},
   "source": [
    "## Standardize the Data\n",
    "\n",
    "Before applying K-NN on the data we should standardize it. We use Scikit-Learn's StandardScaler object for this purpose. Following methods of this object are used: fit() & transform(). \n",
    "- The fit() method computes the mean and standard deviation\n",
    "- The transform() method performs standardization by centering and scaling (0 mean and unit variance)\n",
    "\n",
    "It is important to note that the **fit() method must be applied to the training data only**. In other words, the mean and standard deviation should be computed only based on the training data, not using the full dataset that includes test data. Once the mean and standard deviation are computed from the training data, we use them to transform the training set and the test set (and any subsequent new data) **separately**.\n",
    "\n",
    "### Why do we apply the fit() method only on the training data?\n",
    "We compute the mean and standard deviation using only the training data to prevent data leakage. If we use the full dataset, these values will contain information about the test subset. It will influence the learning and prediction. The learned model might overfit as it is based on the full dataset (via mean and standard deviation). We must ensure that learning is solely based on training data.\n",
    "\n",
    "\n",
    "\n",
    "#### For this demo we don't standardize the data. "
   ]
  },
  {
   "cell_type": "code",
   "execution_count": 5,
   "metadata": {},
   "outputs": [],
   "source": [
    "# scaler = StandardScaler()\n",
    "\n",
    "# # Fit on training set only.\n",
    "# scaler.fit(X_train)\n",
    "\n",
    "# # Apply transform to both the training set and the test set.\n",
    "# X_train = scaler.transform(X_train)\n",
    "# X_test = scaler.transform(X_test)"
   ]
  },
  {
   "cell_type": "markdown",
   "metadata": {},
   "source": [
    "# K Nearest Neighbors Classification Using Scikit-Learn \n",
    "\n",
    "The scikit-learn implements two different nearest neighbors classifiers: \n",
    "- KNeighborsClassifier implements learning based on the \"k\" nearest neighbors of each query point, where k is an **integer** value specified by the user. \n",
    "- RadiusNeighborsClassifier implements learning based on the number of neighbors within a fixed radius of each training point, where k is a **floating-point** value specified by the user. This technique is suitable for scenarios in which data is not uniformly sampled.\n",
    "\n",
    "In this notebook, we will use the KNeighborsClassifier.\n",
    "\n",
    "## KNeighborsClassifier Hyperparameters\n",
    "\n",
    "A K-NN model is defined by a set of parameters: nearest neighbors (K), distance metric (p), etc. These are called **hyperparameters**. We need to select the best model based on the optimal values of these hyperparameters, which we **set manually**. This process is called hyperparameter tuning.\n",
    "\n",
    "The model parameters are known as **hyperparameters** because the values of these parameters are used to control the learning process. By contrast, the values of other parameters are **learned**. In the K-NN model there is no learning, thus we only tune the hyperparameters to create the optimal model.\n",
    "\n",
    "Hyperparameters are are passed as arguments to the constructor of the estimator classes. We search the hyperparameter space for the best cross validation score.\n",
    "\n",
    "We need to set the following hyperparameters to train a KNeighborsClassifier.\n",
    "\n",
    "\n",
    "- n_neighbors : int, optional (default = 5) Number of neighbors to use by default for kneighbors queries.\n",
    "\n",
    "\n",
    "- weights : str or callable, optional (default = ‘uniform’) weight function used in prediction. Possible values:\n",
    "\n",
    "    -- ‘uniform’ : uniform weights. All points in each neighborhood are weighted equally.\n",
    "    \n",
    "    -- ‘distance’ : weight points by the inverse of their distance. in this case, closer neighbors of a query point will have a greater influence than neighbors which are further away.\n",
    "    \n",
    "    -- [callable] : a user-defined function which accepts an array of distances, and returns an array of the same shape containing the weights.\n",
    "\n",
    "\n",
    "- algorithm : {‘auto’, ‘ball_tree’, ‘kd_tree’, ‘brute’}, optional. Algorithm used to compute the nearest neighbors:\n",
    "\n",
    "    -- ‘ball_tree’ will use BallTree\n",
    "    \n",
    "    -- ‘kd_tree’ will use KDTree\n",
    "    \n",
    "    -- ‘brute’ will use a brute-force search.\n",
    "    \n",
    "    -- ‘auto’ will attempt to decide the most appropriate algorithm based on the values passed to fit method.\n",
    "    \n",
    "    -- Note: fitting on sparse input will override the setting of this parameter, using brute force.\n",
    "\n",
    "\n",
    "- leaf_size : int, optional (default = 30). Leaf size passed to BallTree or KDTree. This can affect the speed of the construction and query, as well as the memory required to store the tree. The optimal value depends on the nature of the problem.\n",
    "\n",
    "\n",
    "- p : integer, optional (default = 2)\n",
    "    \n",
    "    -- Power parameter for the Minkowski metric. When p = 1, this is equivalent to using manhattan_distance (l1), and euclidean_distance (l2) for p = 2. For arbitrary p, minkowski_distance (l_p) is used.\n",
    "\n",
    "\n",
    "- metric : string or callable, default ‘minkowski’. the distance metric to use for the tree. The default metric is minkowski, and with p=2 is equivalent to the standard Euclidean metric. See the documentation of the DistanceMetric class for a list of available metrics.\n",
    "https://scikit-learn.org/stable/modules/generated/sklearn.neighbors.DistanceMetric.html\n",
    "\n",
    "\n",
    "- metric_params : dict, optional (default = None). Additional keyword arguments for the metric function.\n",
    "\n",
    "\n",
    "- n_jobs : int or None, optional (default=None). The number of parallel jobs to run for neighbors search. \n",
    "\n",
    "    -- n_jobs= None means 1 unless in a joblib.parallel_backend context. \n",
    "   \n",
    "    -- n_jobs = -1 means using all processors. \n"
   ]
  },
  {
   "cell_type": "markdown",
   "metadata": {},
   "source": [
    "# Model Selection\n",
    "\n",
    "The process of choosing the optimal hyperparameter values for a model (e.g., K) is known as model selection.\n",
    "\n",
    "- First, we select a model based on just one hyperparameter, i.e., the number of nearest neighbors (K) by using default values for the remaining hyperparameters of the model. This is quick and helps us to get a sense of the optimal model.\n",
    "\n",
    "Then, we select a model by finding a combination of the optimal hyperparameters. This is rigorous and more useful.\n",
    "\n",
    "\n",
    "### Model Selection: Choose Optimum K\n",
    "\n",
    "We determine the optimum K by evaluating the K-NN model for various values of K. We use the default setting for the other model parameters:\n",
    "\n",
    "- n_neighbors : default = 5\n",
    "\n",
    "- weights : default = ‘uniform’\n",
    "\n",
    "- algorithm : default = ‘auto’\n",
    "\n",
    "- p : default = 2\n",
    "    \n",
    "- metric : default = ‘minkowski’\n",
    "\n",
    "- metric_params : default = None\n",
    "\n",
    "- n_jobs : default=None\n",
    "\n",
    "We compute the performance on the training set as well as for the validation set. \n",
    "\n",
    "- The validation performance is computed by using the **cross validation** technique. The sklearn.model_selection.cross_val_score function is used for this purpose.\n",
    "\n",
    "The K-NN model is evaluated by computing a performance measure. There are various performamce measures for classification problems.\n",
    "\n",
    "\n",
    "#### Performance Measure for Cross Validation\n",
    "\n",
    "The sklearn KNeighborsClassifier uses, by default, \"accuracy\" as the performance measure. In a skewed dataset, accuracy doesn't provide a good estimate of the performance of the model. We will have to use confusion matrix, precision, recall, f1 score, etc.\n",
    "\n",
    "But for now, let's use KNeighborsClassifier's default accuracy score function to evalute the model's performance for various values of K.\n"
   ]
  },
  {
   "cell_type": "code",
   "execution_count": 6,
   "metadata": {},
   "outputs": [],
   "source": [
    "# Set the the range of K \n",
    "neighbors = np.arange(1,60)\n",
    "\n",
    "# Two arrays to store training and test accuracies\n",
    "train_accuracy = np.empty(len(neighbors))\n",
    "validation_accuracy = np.empty(len(neighbors))\n",
    "\n",
    "for i,k in enumerate(neighbors):\n",
    "    \n",
    "    # Setup a knn classifier with k neighbors\n",
    "    knn = KNeighborsClassifier(n_neighbors=k)\n",
    "    \n",
    "    # Fit the model\n",
    "    knn.fit(X_train, y_train)\n",
    "    \n",
    "    \n",
    "    # The \"score\" function returns the mean accuracy on the given train/test data and labels.\n",
    "    # Note that \"accuracy\" may not be a good performance measure in a skewed data set\n",
    "    # Thus, we need to do hyperparameter tuning by using better performance measures (e.g., f1 score, presision, recall)\n",
    "    \n",
    "    # Compute training accuracy \n",
    "    train_accuracy[i] = knn.score(X_train, y_train)\n",
    "\n",
    "    \n",
    "    # Compute validation accuracy using cross-validation\n",
    "    # Depending on the value set for \"cv\", the cross_val_score function will return multiple score values\n",
    "    scores = cross_val_score(knn, X_train, y_train, scoring='accuracy', cv=5)\n",
    "    \n",
    "    # Compute the mean of the multiple score values\n",
    "    validation_accuracy[i] = scores.mean()"
   ]
  },
  {
   "cell_type": "code",
   "execution_count": 7,
   "metadata": {},
   "outputs": [
    {
     "data": {
      "image/png": "[encoded data removed]",
      "text/plain": [
       "<Figure size 720x432 with 1 Axes>"
      ]
     },
     "metadata": {},
     "output_type": "display_data"
    },
    {
     "name": "stdout",
     "output_type": "stream",
     "text": [
      "Optimal K:  12\n"
     ]
    }
   ],
   "source": [
    "plt.style.use('ggplot')\n",
    "fig = plt.figure(figsize=(10, 6))\n",
    "plt.title('Varying K: Number of Nearest Neighbors')\n",
    "plt.plot(neighbors, validation_accuracy, label='Validation Accuracy')\n",
    "plt.plot(neighbors, train_accuracy, label='Training accuracy')\n",
    "plt.legend()\n",
    "plt.xlabel('K (Number of Nearest Neighbors)')\n",
    "plt.ylabel('Accuracy')\n",
    "plt.show()\n",
    "\n",
    "\n",
    "\n",
    "# Find the value of \"K\" that gives max validation accuracy\n",
    "j = 0\n",
    "max_val_accuracy = validation_accuracy[j]\n",
    "max_k = 1\n",
    "\n",
    "for i in neighbors:\n",
    "    if(validation_accuracy[j] > max_val_accuracy):\n",
    "        max_val_accuracy = validation_accuracy[j]\n",
    "        max_k = i\n",
    "    j +=1\n",
    "    \n",
    "print(\"Optimal K: \", max_k)"
   ]
  },
  {
   "cell_type": "markdown",
   "metadata": {},
   "source": [
    "## Model Selection: Choose a Combination of Optimal Hyperarameters via Hyperparameter Tuning\n",
    "\n",
    "The best way to do hyperparameter tuning is to use **cross-validation**.\n",
    "\n",
    "We will use Scikit-Learn’s **GridSearchCV** to search the combinations of hyperparameter values that provide the best performance.\n",
    "\n",
    "We need to tell which hyperparameters we want the GridSearchCV to experiment with, and what values to try out. \n",
    "     \n",
    "      It will evaluate all the possible combinations of hyperparameter values using cross-validation. \n",
    "\n",
    "We will tune the following hyperparameters of the GridSearchCV model.\n",
    "\n",
    "- n_neighbors \n",
    "- weights \n",
    "- p \n",
    "    \n",
    "\n",
    "\n",
    "### GridSearchCV Parameters\n",
    "\n",
    "Following are the most frequenly used parameters by GridSearchCV.\n",
    "\n",
    "- estimator : estimator object. This is assumed to implement the scikit-learn estimator interface. Either estimator needs to provide a score function, or scoring must be passed.\n",
    "\n",
    "- param_grid : Dictionary with parameters names (string) as keys and lists of parameter settings to try as values, or a list of such dictionaries, in which case the grids spanned by each dictionary in the list are explored. This enables searching over any sequence of parameter settings.\n",
    "\n",
    "- scoring : string, callable, list/tuple, dict or None, default: None\n",
    "\n",
    "    -- A single string (see The scoring parameter: defining model evaluation rules) or a callable (see Defining your scoring strategy from metric functions) to evaluate the predictions on the test set.\n",
    "\n",
    "\n",
    "- n_jobs : int or None, optional (default=None). Number of jobs to run in parallel. \n",
    "\n",
    "    -- n_jobs= None means 1 unless in a joblib.parallel_backend context. \n",
    "   \n",
    "    -- n_jobs = -1 means using all processors. \n",
    "\n",
    "- cv : int. Determines the cross-validation splitting strategy. None, to use the default 3-fold cross validation.\n",
    "\n",
    "- verbose : integer. Controls the verbosity: the higher, the more messages.\n",
    "\n",
    "\n",
    "### Note: the scoring function\n",
    "\n",
    "The GridSearchCV takes an argument to define the scoring metric (performance measure). \n",
    "\n",
    "See the list of possible scoring functions:\n",
    "https://scikit-learn.org/stable/modules/model_evaluation.html#scoring-parameter\n",
    "\n",
    "For multiclass classification, we may use \"f1_micro\" scoring function. \n",
    "- The f1_micro function calculates metrics globally by counting the total true positives, true negatives, false negatives and false positives. More specifically, it computes the precision/recall pair for each class, then sum those to get total precision and recall, which are used to compute the F1 score. The micro average is suitable if there is class imbalance.\n",
    "\n",
    "- On the other hand, the f1_macro function computes the F1 score for each class, then computes the unweighted mean of all F1 scores. It does not take label imbalance into account.\n",
    "\n",
    "In the binary classification, F1 score function can be used. We may also use the precision, recall, roc_auc functions.\n",
    "\n",
    "\n",
    "### Note: Experimenting with the Mahalanobis Distance Metric\n",
    "\n",
    "We cannot use the Mahalanobis distance metric as a parameter for the grid search.\n",
    "\n",
    "Because for each iteration of the cross-validation, a new train fold is created which requires to compute the inverse of its covariance matrix.\n",
    "\n",
    "With the sklearn grid search we cannot compute the inverse of the covariance matrix dynamically for each training fold.\n",
    "\n",
    "Thus, unfortunately, we can't experiment with the Mahalanobis distance metric using the grid search.\n",
    "\n",
    "\n",
    "### How To get the Execution Time of a Python Statement?\n",
    "\n",
    "A simple technique is to use the magic command: %%time or %time\n",
    "\n",
    "The command %%time and %time prints two values:\n",
    "- CPU Time\n",
    "- Wall Time\n",
    "\n",
    "Wall clock time measures how much time has passed, as if we were looking at the clock on our wall. CPU time is how many seconds the CPU was busy.\n",
    "\n",
    "The wall clock time could be higher than the CPU time because the process might have spent some time for waiting (e.g., network delay) instead of doing computation the whole time. \n",
    "\n",
    "Difference between the commands %%time and %time:\n",
    "- %%time prints the wall time for the entire cell\n",
    "- %time prints the wall time for first line only\n",
    "\n",
    "        The %%time command must be used at the very beginning of a block (before the any statements or comments).\n",
    "\n",
    "\n",
    "For more information see:\n",
    "https://ipython.readthedocs.io/en/stable/interactive/magics.html?highlight=%25time#magic-time"
   ]
  },
  {
   "cell_type": "code",
   "execution_count": 8,
   "metadata": {},
   "outputs": [
    {
     "name": "stdout",
     "output_type": "stream",
     "text": [
      "Fitting 5 folds for each of 686 candidates, totalling 3430 fits\n",
      "Best Score: 0.955487\n",
      "Optimal Hyperparameter Values:  {'n_neighbors': 8, 'p': 50, 'weights': 'uniform'}\n",
      "\n",
      "\n",
      "CPU times: user 1.39 s, sys: 130 ms, total: 1.52 s\n",
      "Wall time: 8.12 s\n"
     ]
    }
   ],
   "source": [
    "%%time\n",
    "\n",
    "warnings.filterwarnings('ignore')\n",
    "\n",
    "# The param_grid tells Scikit-Learn to evaluate all combinations of the hyperparameter values\n",
    "param_grid = {'n_neighbors': np.arange(1,50), 'p': [1, 2, 10, 50, 100, 500, 1000], \n",
    "              'weights': [\"uniform\", \"distance\"]}\n",
    "\n",
    "knn_clf = KNeighborsClassifier()\n",
    "\n",
    "knn_cv = GridSearchCV(knn_clf, param_grid, scoring='f1', cv=5, verbose=1, n_jobs=-1)\n",
    "knn_cv.fit(X_train, y_train)\n",
    "\n",
    "\n",
    "params_optimal_knn = knn_cv.best_params_\n",
    "\n",
    "print(\"Best Score: %f\" % knn_cv.best_score_)\n",
    "print(\"Optimal Hyperparameter Values: \", params_optimal_knn)\n",
    "print(\"\\n\")"
   ]
  },
  {
   "cell_type": "markdown",
   "metadata": {},
   "source": [
    "## Select The Best Model \n",
    "\n",
    "Using the optimal hyperparameter values, create the best model.\n",
    "Then, fit the model.\n",
    "\n",
    "## Note on Using Mahalanobis Distance Metric:\n",
    "\n",
    "The Mahalanobis distance metric works only with the brute force algorithm in sklearn. With this distance metric we tune only the following two hyperparameters.\n",
    "- weights: \"distance\", \"uniform\"\n",
    "- n_neighbors: int\n",
    "\n",
    "Also the data should not be standardized before using the Mahalanobis distance metric."
   ]
  },
  {
   "cell_type": "code",
   "execution_count": 9,
   "metadata": {},
   "outputs": [
    {
     "name": "stdout",
     "output_type": "stream",
     "text": [
      "\n",
      "Training Accuracy:  0.975\n"
     ]
    }
   ],
   "source": [
    "# With the Mahalanobis distance metric only the brute force algorithm works\n",
    "#knn = KNeighborsClassifier(weights=?, algorithm='brute', n_neighbors=?, metric = \"mahalanobis\", metric_params= {'V': ?})\n",
    "\n",
    "# Minkowski distance metric based optimal model selected via hyperparameter tuning.\n",
    "# The Minkowski distance based model (i.e., knn_cv) is already trained with the optimal hyperparameter values.\n",
    "# We can use the optimal model (knn_cv) for prediction.\n",
    "# Or we can use the optimal hyperparameter values to train a new model, as follows.\n",
    "\n",
    "knn = KNeighborsClassifier(**params_optimal_knn)\n",
    "\n",
    "knn.fit(X_train, y_train)\n",
    "\n",
    "y_train_predicted = knn.predict(X_train)\n",
    "\n",
    "train_accuracy_knn = np.mean(y_train_predicted == y_train)\n",
    "print(\"\\nTraining Accuracy: \", train_accuracy_knn)"
   ]
  },
  {
   "cell_type": "markdown",
   "metadata": {},
   "source": [
    "## Prediction\n",
    "\n",
    "We can predict two types of values by using KNeighborsClassifier's two functions:\n",
    "- Class (target) of the data using the predict() function\n",
    "- Probabilities of belonging to all classes using the predict_proba() function\n",
    "\n",
    "We will make these two types of predictions on 3 train data points.\n",
    "\n",
    "Note that these two functions require a 2D array as argument. However, when we select a single training data, we get a 1D array.\n",
    "\n",
    "Thus, to make prediction on a single data point, we need to \"reshape\" it as a 2D array (one row and four columns).\n",
    "\n",
    "### Demo: How to Reshape a Single Sample\n",
    "\n",
    "Following demo shows two techniques for this type of reshaping. \n",
    "\n",
    "- We will use the latter one."
   ]
  },
  {
   "cell_type": "code",
   "execution_count": 10,
   "metadata": {},
   "outputs": [
    {
     "name": "stdout",
     "output_type": "stream",
     "text": [
      "Original Data:  [6.4 3.1 5.5 1.8]\n",
      "Shape (original):  (4,)\n",
      "\n",
      "Reshaped Data:  [[6.4 3.1 5.5 1.8]]\n",
      "Shape (after reshaping):  (1, 4)\n",
      "\n",
      "Reshaped Data (using unknown column dimension):  [[6.4 3.1 5.5 1.8]]\n",
      "Shape (reshaping using unknown dimension):  (1, 4)\n"
     ]
    }
   ],
   "source": [
    "# Select a training sample \n",
    "print(\"Original Data: \", X_train[0])\n",
    "\n",
    "# Shape of the training sample\n",
    "print(\"Shape (original): \", X_train[0].shape)\n",
    "\n",
    "# Reshape it as an array with a single row and 4 columns\n",
    "print(\"\\nReshaped Data: \", X_train[0].reshape(1, 4))\n",
    "\n",
    "# Shape of the reshaped training sample\n",
    "print(\"Shape (after reshaping): \", X_train[0].reshape(1,-1).shape)\n",
    "\n",
    "'''\n",
    "The above reshaping can be done by using -1 for the column dimension.\n",
    "Here -1 refers to unknown dimension.\n",
    "\n",
    "The \"reshape\" method allows us to have one \"unknown\" dimension.\n",
    "\n",
    "We do not have to specify an exact number for one of the dimensions in the reshape method.\n",
    "\n",
    "In this example, we need 1 row, thus we pass \"1\" as the first argument of reshape.\n",
    "But we don't need to pass \"4\" as the 2nd argument. \n",
    "We could simply pass an unknown dimension (i.e., -1).\n",
    "The reshape method will figure out the dimension for the columns.\n",
    "\n",
    "'''\n",
    "\n",
    "# Reshape it as an array with a single row and 4 columns\n",
    "print(\"\\nReshaped Data (using unknown column dimension): \", X_train[0].reshape(1, -1))\n",
    "\n",
    "# Shape of the reshaped training sample\n",
    "print(\"Shape (reshaping using unknown dimension): \", X_train[0].reshape(1,-1).shape)"
   ]
  },
  {
   "cell_type": "markdown",
   "metadata": {},
   "source": [
    "## Binary Classification\n",
    "\n",
    "For binary classification problems, the predict_proba() function will return a 2D array. \n",
    "- 1st column: represents the probability of belonging to class 0\n",
    "- 2nd column: represents the probability of belonging to class 1\n"
   ]
  },
  {
   "cell_type": "markdown",
   "metadata": {},
   "source": [
    "## Prediction for Single Data \n",
    "\n",
    "We choose three data points (training data) and make predictions."
   ]
  },
  {
   "cell_type": "code",
   "execution_count": 11,
   "metadata": {},
   "outputs": [
    {
     "name": "stdout",
     "output_type": "stream",
     "text": [
      "\n",
      "Predicted Class for the first data: 1\n",
      "Predicted Class Probabilities for the first data:  [[0. 1.]]\n",
      "\n",
      "Predicted Class for the second data: 0\n",
      "Predicted Class Probabilities for the second data:  [[1. 0.]]\n",
      "\n",
      "Predicted Class for the third data: 1\n",
      "Predicted Class Probabilities for the third data:  [[0.375 0.625]]\n"
     ]
    }
   ],
   "source": [
    "# random indices for three data points from the training dataset\n",
    "data1Index = 0\n",
    "data2Index = 1\n",
    "data3Index = 18\n",
    "\n",
    "y_train_predicted_1 = knn.predict(X_train[data1Index].reshape(1, -1))\n",
    "print(\"\\nPredicted Class for the first data: %d\" % y_train_predicted_1)\n",
    "\n",
    "y_train_predicted_proba_1 = knn.predict_proba(X_train[data1Index].reshape(1, -1))\n",
    "print(\"Predicted Class Probabilities for the first data: \", y_train_predicted_proba_1)\n",
    "\n",
    "\n",
    "y_train_predicted_2 = knn.predict(X_train[data2Index].reshape(1, -1))\n",
    "print(\"\\nPredicted Class for the second data: %d\" % y_train_predicted_2)\n",
    "\n",
    "y_train_predicted_proba_2 = knn.predict_proba(X_train[data2Index].reshape(1, -1))\n",
    "print(\"Predicted Class Probabilities for the second data: \", y_train_predicted_proba_2)\n",
    "\n",
    "\n",
    "\n",
    "y_train_predicted_3 = knn.predict(X_train[data3Index].reshape(1, -1))\n",
    "print(\"\\nPredicted Class for the third data: %d\" % y_train_predicted_3)\n",
    "\n",
    "y_train_predicted_proba_3 = knn.predict_proba(X_train[data3Index].reshape(1, -1))\n",
    "print(\"Predicted Class Probabilities for the third data: \", y_train_predicted_proba_3)\n"
   ]
  },
  {
   "cell_type": "markdown",
   "metadata": {},
   "source": [
    "## Observation on the Predictictions\n",
    "\n",
    "From the above output, observe that for the 1st data point, the predicted class is 1, because the 2nd column of its probability estimate matrix (for class 0 and class 1) is larger.\n",
    "\n",
    "However, for the 3rd data point, the predicted class is 0, because the 1st column of its probability estimate matrix (for class 0 and class 1) is larger."
   ]
  },
  {
   "cell_type": "markdown",
   "metadata": {},
   "source": [
    "# What Happenns When Class Probabilities of a Data Point are Equal?\n",
    "\n",
    "Consider the following two data points.\n",
    "\n",
    "Their class probabilities are equal.\n",
    "\n",
    "How are their target classes determined?\n",
    "\n",
    "See the example below."
   ]
  },
  {
   "cell_type": "code",
   "execution_count": 12,
   "metadata": {},
   "outputs": [
    {
     "name": "stdout",
     "output_type": "stream",
     "text": [
      "\n",
      "Predicted Class Probabilities for the first data:  [[0.5 0.5]]\n",
      "Predicted Class for the first data: 0\n",
      "\n",
      "Predicted Class Probabilities for the second data:  [[0.5 0.5]]\n",
      "Predicted Class for the second data: 0\n"
     ]
    }
   ],
   "source": [
    "# indices for two data points from the training dataset\n",
    "data4Index = 102\n",
    "data5Index = 111\n",
    "\n",
    "\n",
    "y_train_predicted_proba_4 = knn.predict_proba(X_train[data4Index].reshape(1, -1))\n",
    "print(\"\\nPredicted Class Probabilities for the first data: \", y_train_predicted_proba_4)\n",
    "\n",
    "y_train_predicted_4 = knn.predict(X_train[data4Index].reshape(1, -1))\n",
    "print(\"Predicted Class for the first data: %d\" % y_train_predicted_4)\n",
    "\n",
    "\n",
    "y_train_predicted_proba_5 = knn.predict_proba(X_train[data5Index].reshape(1, -1))\n",
    "print(\"\\nPredicted Class Probabilities for the second data: \", y_train_predicted_proba_5)\n",
    "\n",
    "y_train_predicted_5 = knn.predict(X_train[data5Index].reshape(1, -1))\n",
    "print(\"Predicted Class for the second data: %d\" % y_train_predicted_5)"
   ]
  },
  {
   "cell_type": "markdown",
   "metadata": {},
   "source": [
    "## Evaluate Model Performance\n",
    "\n",
    "We use the \"accuracy\" as a metric for evaluating the model's performance on the training data.  "
   ]
  },
  {
   "cell_type": "code",
   "execution_count": 13,
   "metadata": {},
   "outputs": [
    {
     "name": "stdout",
     "output_type": "stream",
     "text": [
      "\n",
      "Train Accuracy:  0.975\n"
     ]
    }
   ],
   "source": [
    "# The accuracy of the model\n",
    "train_accuracy_knn = knn.score(X_train, y_train)\n",
    "print(\"\\nTrain Accuracy: \", train_accuracy_knn)"
   ]
  },
  {
   "cell_type": "markdown",
   "metadata": {},
   "source": [
    "## Evaluate Model Performance Using Cross-Validation\n",
    "\n",
    "We evaluate the model's performance using cross-validation using Scikit-Learn's cross_val_score function. \n",
    "\n",
    "Note that the \"scoring\" argument should be set based on the type of classification (binary/multiclass). Generally, for a skewed dataset, accuracy is not a reliable measure of performance. In this example, we use accuracy.\n",
    "\n",
    "\n",
    "### Benefit of Using Cross-Validation:\n",
    "\n",
    "Cross-validation allows us to get not only an estimate of the performance of our model, but also a measure of how precise this estimate is (i.e., its standard deviation). \n",
    "\n",
    "We would not have this information if we just used one validation set. \n",
    "\n",
    "    But cross-validation comes at the cost of training the model several times, so it is not efficient for larger datasets."
   ]
  },
  {
   "cell_type": "code",
   "execution_count": 14,
   "metadata": {},
   "outputs": [
    {
     "name": "stdout",
     "output_type": "stream",
     "text": [
      "[0.95833333 0.95833333 1.         1.         0.91666667]\n",
      "Cross-validated mean accuracy (std): 0.97 (+/- 0.06)\n"
     ]
    }
   ],
   "source": [
    "# Scoring Parameter for Classification:\n",
    "# https://scikit-learn.org/stable/modules/model_evaluation.html#scoring-parameter\n",
    "# Note: For a skewed data set \"accuracy\" might not be a good choice for scoring\n",
    "cv_scores = cross_val_score(knn, X_train, y_train, scoring='accuracy', cv=5)\n",
    "print(cv_scores)\n",
    "\n",
    "print(\"Cross-validated mean accuracy (std): %0.2f (+/- %0.2f)\" % (cv_scores.mean(), cv_scores.std() * 2))"
   ]
  },
  {
   "cell_type": "markdown",
   "metadata": {},
   "source": [
    "## Evalute The Model Using Confusion Matrix for Training Data\n",
    "\n",
    "We use the cross_val_predict() function to performs cross-validation. \n",
    "\n",
    "However, unlike cross_val_score, it doesn't return the evaluation scores.\n",
    "\n",
    "Instead it returns the predictions made on each test fold. \n",
    "\n",
    "This means that we get a clean prediction for each instance in the training set.\n",
    "\n",
    "By “clean” we mean that the prediction is made by a model that never saw the data during training.\n",
    "\n",
    "However, for a large dataset, performing cross validation is expensive. So, we should use KNN object's predict() method."
   ]
  },
  {
   "cell_type": "code",
   "execution_count": 15,
   "metadata": {},
   "outputs": [
    {
     "data": {
      "text/plain": [
       "array([[74,  2],\n",
       "       [ 1, 43]])"
      ]
     },
     "execution_count": 15,
     "metadata": {},
     "output_type": "execute_result"
    }
   ],
   "source": [
    "#y_train_pred = cross_val_predict(knn, X_train, y_train, cv=5)\n",
    "y_train_pred = knn.predict(X_train)\n",
    "\n",
    "confusion_matrix(y_train, y_train_pred)"
   ]
  },
  {
   "cell_type": "markdown",
   "metadata": {},
   "source": [
    "# Precision, Recall & F1 Score for Training Data"
   ]
  },
  {
   "cell_type": "code",
   "execution_count": 16,
   "metadata": {},
   "outputs": [
    {
     "name": "stdout",
     "output_type": "stream",
     "text": [
      "Training: Precision = 0.955556\n",
      "Training: Recall = 0.977273\n",
      "Training: F1 Score = 0.966292\n"
     ]
    }
   ],
   "source": [
    "precision = precision_score(y_train, y_train_pred) \n",
    "print(\"Training: Precision = %f\" % precision)\n",
    "\n",
    "recall = recall_score(y_train, y_train_pred)\n",
    "print(\"Training: Recall = %f\" % recall)\n",
    "\n",
    "\n",
    "f1 = f1_score(y_train, y_train_pred)\n",
    "print(\"Training: F1 Score = %f\" % f1)"
   ]
  },
  {
   "cell_type": "markdown",
   "metadata": {},
   "source": [
    "# Evaluate The Model Using Test Data\n",
    "\n",
    "The KNeighborsClassifier model has a default \"score\" function that computes the accuracy of the model.\n",
    "\n",
    "Often times the accuracy is not a good measure.\n",
    "\n",
    "We also compute the other performance measures, such as the confusion matrix, precision, recall, and the F1 score for the test data.\n",
    "\n",
    "## Test Accuracy & Test Confusion Matrix"
   ]
  },
  {
   "cell_type": "code",
   "execution_count": 17,
   "metadata": {},
   "outputs": [
    {
     "name": "stdout",
     "output_type": "stream",
     "text": [
      "\n",
      "Test Accuracy:  1.0\n",
      "\n",
      "No. of correct predictions (Test): 30/30\n",
      "\n",
      "Confusion Matrix (Test Data):\n",
      " [[24  0]\n",
      " [ 0  6]]\n"
     ]
    }
   ],
   "source": [
    "# The accuracy of the model\n",
    "test_accuracy_knn = knn.score(X_test, y_test)\n",
    "print(\"\\nTest Accuracy: \", test_accuracy_knn)\n",
    "\n",
    "\n",
    "# No. of Correct Predictions\n",
    "y_test_predicted = knn.predict(X_test)\n",
    "print(\"\\nNo. of correct predictions (Test): %d/%d\" % (np.sum(y_test_predicted == y_test), len(y_test)))\n",
    "\n",
    "\n",
    "\n",
    "# Confusion Matrix\n",
    "print(\"\\nConfusion Matrix (Test Data):\\n\", confusion_matrix(y_test, y_test_predicted))"
   ]
  },
  {
   "cell_type": "markdown",
   "metadata": {},
   "source": [
    "## Precision, Recall & F1 Score for Test Data"
   ]
  },
  {
   "cell_type": "code",
   "execution_count": 18,
   "metadata": {},
   "outputs": [
    {
     "name": "stdout",
     "output_type": "stream",
     "text": [
      "Test: Precision = 1.000000\n",
      "Test: Recall = 1.000000\n",
      "Test: F1 Score = 1.000000\n"
     ]
    }
   ],
   "source": [
    "precision = precision_score(y_test, y_test_predicted) \n",
    "print(\"Test: Precision = %f\" % precision)\n",
    "\n",
    "recall = recall_score(y_test, y_test_predicted)\n",
    "print(\"Test: Recall = %f\" % recall)\n",
    "\n",
    "\n",
    "f1 = f1_score(y_test, y_test_predicted)\n",
    "print(\"Test: F1 Score = %f\" % f1)"
   ]
  },
  {
   "cell_type": "markdown",
   "metadata": {},
   "source": [
    "## Confusion Matrix using Pandas\n",
    "\n",
    "Using pandas crosstab, we create a better visualization of the confusion matrix."
   ]
  },
  {
   "cell_type": "code",
   "execution_count": 19,
   "metadata": {},
   "outputs": [
    {
     "data": {
      "text/html": [
       "<div>\n",
       "<style scoped>\n",
       "    .dataframe tbody tr th:only-of-type {\n",
       "        vertical-align: middle;\n",
       "    }\n",
       "\n",
       "    .dataframe tbody tr th {\n",
       "        vertical-align: top;\n",
       "    }\n",
       "\n",
       "    .dataframe thead th {\n",
       "        text-align: right;\n",
       "    }\n",
       "</style>\n",
       "<table border=\"1\" class=\"dataframe\">\n",
       "  <thead>\n",
       "    <tr style=\"text-align: right;\">\n",
       "      <th>Predicted</th>\n",
       "      <th>0</th>\n",
       "      <th>1</th>\n",
       "      <th>All</th>\n",
       "    </tr>\n",
       "    <tr>\n",
       "      <th>True</th>\n",
       "      <th></th>\n",
       "      <th></th>\n",
       "      <th></th>\n",
       "    </tr>\n",
       "  </thead>\n",
       "  <tbody>\n",
       "    <tr>\n",
       "      <th>0</th>\n",
       "      <td>24</td>\n",
       "      <td>0</td>\n",
       "      <td>24</td>\n",
       "    </tr>\n",
       "    <tr>\n",
       "      <th>1</th>\n",
       "      <td>0</td>\n",
       "      <td>6</td>\n",
       "      <td>6</td>\n",
       "    </tr>\n",
       "    <tr>\n",
       "      <th>All</th>\n",
       "      <td>24</td>\n",
       "      <td>6</td>\n",
       "      <td>30</td>\n",
       "    </tr>\n",
       "  </tbody>\n",
       "</table>\n",
       "</div>"
      ],
      "text/plain": [
       "Predicted   0  1  All\n",
       "True                 \n",
       "0          24  0   24\n",
       "1           0  6    6\n",
       "All        24  6   30"
      ]
     },
     "execution_count": 19,
     "metadata": {},
     "output_type": "execute_result"
    }
   ],
   "source": [
    "pd.crosstab(y_test, y_test_predicted, rownames=['True'], colnames=['Predicted'], margins=True)"
   ]
  },
  {
   "cell_type": "markdown",
   "metadata": {},
   "source": [
    "## Summary of Classification Metrics\n",
    "\n",
    "We can build a text report showing the main classification metrics."
   ]
  },
  {
   "cell_type": "code",
   "execution_count": 20,
   "metadata": {},
   "outputs": [
    {
     "name": "stdout",
     "output_type": "stream",
     "text": [
      "              precision    recall  f1-score   support\n",
      "\n",
      "           0       1.00      1.00      1.00        24\n",
      "           1       1.00      1.00      1.00         6\n",
      "\n",
      "    accuracy                           1.00        30\n",
      "   macro avg       1.00      1.00      1.00        30\n",
      "weighted avg       1.00      1.00      1.00        30\n",
      "\n"
     ]
    }
   ],
   "source": [
    "print(classification_report(y_test,y_test_predicted))"
   ]
  },
  {
   "cell_type": "markdown",
   "metadata": {},
   "source": [
    "# Evaluate the Model using the ROC Curve for Training Data\n",
    "\n",
    "The Receiver Operating Characteristic (ROC) curve is a graphical plot that illustrates the diagnostic ability of a binary classifier system as its discrimination threshold is varied.\n",
    "\n",
    "The ROC curve is created by plotting the true positive rate (TPR) against the false positive rate (FPR) at various threshold settings. \n",
    "\n",
    "We use sklearn.metrics.roc_curve() function to generate the ROC curve.\n",
    "\n",
    "It takes at least two arguments:\n",
    "- True binary labels\n",
    "- Target scores\n",
    "\n",
    "Note that the target scores can either be probability estimates of the positive class, confidence values, or non-thresholded measure of decisions (as returned by “decision_function” on some classifiers).\n",
    "\n",
    "\n",
    "\n",
    "### Target Score for K-NN\n",
    "\n",
    "For the K-NN classifier, we use the probability estimates of the positive class as the target score.\n",
    "\n",
    "There are two techniques to obtain the probability estimates of the positive class.\n",
    "\n",
    "- Technique 1: The model_selection.cross_val_predict() function in which we need to use the attribute \"method\" with the value \"predict_proba\" as: method=\"predict_proba\"\n",
    "- Technique 2: The knn model's predict_proba() function.\n",
    "\n",
    "Note that both functions return a n x 2 matrix (n = no. of data). The second column of this matrix stores the probability of the positive classes.\n",
    "\n",
    "Thus, we need to retrieve the values from the 2nd column of the returned matrix to get the probability estimates of the positive class (target score values).\n",
    "\n",
    "\n",
    "##### Which technique should we use?\n",
    "- Technique 1: it provides better evaluation as it uses the cross-validation. Use it if the training data is not very large and cross-validation is not expensive.\n",
    "- Technique 2: use it when training data is large.\n",
    "\n",
    "Since the Iris training dataset is small, we use the technique 1."
   ]
  },
  {
   "cell_type": "code",
   "execution_count": 21,
   "metadata": {},
   "outputs": [
    {
     "name": "stdout",
     "output_type": "stream",
     "text": [
      "\n",
      "FPR FPR & TPR for Various Threshold Values:\n",
      "FPR:  [0.         0.         0.01315789 0.01315789 0.03947368 0.06578947\n",
      " 0.07894737 0.14473684 0.18421053 1.        ]\n",
      "\n",
      "TPR:  [0.         0.68181818 0.77272727 0.86363636 0.97727273 0.97727273\n",
      " 0.97727273 0.97727273 0.97727273 1.        ]\n",
      "\n",
      "Thresholds:  [2.    1.    0.875 0.75  0.625 0.5   0.375 0.25  0.125 0.   ]\n"
     ]
    }
   ],
   "source": [
    "# Get the 2nd column of the matrix of predicted probabilities for each data point\n",
    "#    The 2nd column stores the probalities of the positive class\n",
    "\n",
    "# Technique 1\n",
    "y_scores = cross_val_predict(knn, X_train, y_train, method=\"predict_proba\", cv=5)[:, 1]\n",
    "\n",
    "# Technique 2\n",
    "#y_scores = knn.predict_proba(X_train)[:, 1]\n",
    "\n",
    "fpr, tpr, thresholds = roc_curve(y_train, y_scores)\n",
    "\n",
    "print(\"\\nFPR FPR & TPR for Various Threshold Values:\")\n",
    "\n",
    "print(\"FPR: \", fpr)\n",
    "print(\"\\nTPR: \", tpr)\n",
    "print(\"\\nThresholds: \", thresholds)"
   ]
  },
  {
   "cell_type": "code",
   "execution_count": 22,
   "metadata": {},
   "outputs": [
    {
     "data": {
      "image/png": "[encoded data removed]",
      "text/plain": [
       "<Figure size 720x432 with 1 Axes>"
      ]
     },
     "metadata": {},
     "output_type": "display_data"
    }
   ],
   "source": [
    "plt.style.use('ggplot')\n",
    "\n",
    "fig = plt.figure(figsize=(10, 6))\n",
    "def plot_roc_curve(fpr, tpr, label=None): \n",
    "    plt.plot(fpr, tpr, color='darkorange', linewidth=8, label=label) \n",
    "    plt.plot([0, 1], [0, 1], color='navy', lw=2, linestyle='--')\n",
    "    plt.axis([0, 1, 0, 1])\n",
    "    plt.title(label)\n",
    "    plt.xlabel('False Positive Rate')\n",
    "    plt.ylabel('True Positive Rate')\n",
    "\n",
    "plot_roc_curve(fpr, tpr, \"ROC Curve (Train Data)\")\n",
    "plt.show()"
   ]
  },
  {
   "cell_type": "markdown",
   "metadata": {},
   "source": [
    "## Area Under the ROC Curve"
   ]
  },
  {
   "cell_type": "code",
   "execution_count": 23,
   "metadata": {},
   "outputs": [
    {
     "data": {
      "text/plain": [
       "0.9817583732057416"
      ]
     },
     "execution_count": 23,
     "metadata": {},
     "output_type": "execute_result"
    }
   ],
   "source": [
    "# Area under ROC curve\n",
    "roc_auc_score(y_train,y_scores)"
   ]
  },
  {
   "cell_type": "markdown",
   "metadata": {},
   "source": [
    "# Precision-Recall Curve\n",
    "\n",
    "We can plot precision and recall as functions of the threshold values.\n",
    "\n",
    "Then, we can select the threshold value that gives the best precision/recall tradeoff for our problem. "
   ]
  },
  {
   "cell_type": "code",
   "execution_count": 24,
   "metadata": {},
   "outputs": [
    {
     "name": "stdout",
     "output_type": "stream",
     "text": [
      "Precisions:  [0.36666667 0.75438596 0.7962963  0.87755102 0.89583333 0.93478261\n",
      " 0.97435897 0.97142857 1.         1.        ]\n",
      "\n",
      "Recalls:  [1.         0.97727273 0.97727273 0.97727273 0.97727273 0.97727273\n",
      " 0.86363636 0.77272727 0.68181818 0.        ]\n",
      "\n",
      "Thresholds:  [0.    0.125 0.25  0.375 0.5   0.625 0.75  0.875 1.   ]\n"
     ]
    },
    {
     "data": {
      "image/png": "[encoded data removed]",
      "text/plain": [
       "<Figure size 720x432 with 1 Axes>"
      ]
     },
     "metadata": {},
     "output_type": "display_data"
    },
    {
     "name": "stdout",
     "output_type": "stream",
     "text": [
      "Find the optimal threshold manually from the precision-recall curve\n"
     ]
    }
   ],
   "source": [
    "plt.style.use('ggplot')\n",
    "\n",
    "# Get the 2nd column of the matrix of predicted probabilities for each data point\n",
    "#    The 2nd column stores the probalities of the positive class\n",
    "\n",
    "# Method 1\n",
    "y_scores = cross_val_predict(knn, X_train, y_train, method=\"predict_proba\", cv=5)[:, 1]\n",
    "\n",
    "# Method 2\n",
    "#y_scores = knn.predict_proba(X_train)[:, 1]\n",
    "\n",
    "precisions, recalls, thresholds = precision_recall_curve(y_train, y_scores)\n",
    "\n",
    "print(\"Precisions: \", precisions)\n",
    "print(\"\\nRecalls: \", recalls)\n",
    "print(\"\\nThresholds: \", thresholds)\n",
    "\n",
    "\n",
    "fig = plt.figure(figsize=(10, 6))\n",
    "def plot_precision_recall_vs_threshold(precisions, recalls, thresholds): \n",
    "    plt.plot(thresholds, precisions[:-1], \"b--\",  linewidth=8, label=\"Precision\") \n",
    "    plt.plot(thresholds, recalls[:-1], \"g-\",  linewidth=3, label=\"Recall\") \n",
    "    plt.xlabel(\"Threshold\")\n",
    "    plt.legend(loc=\"lower right\")\n",
    "    plt.title('Precision-Recall Curve')\n",
    "    #plt.xlim([0, 1])\n",
    "    plt.ylim([0, 1.1])\n",
    "\n",
    "plot_precision_recall_vs_threshold(precisions, recalls, thresholds)\n",
    "plt.show()\n",
    "\n",
    "\n",
    "threshold_optimal = -1\n",
    "for i in range(len(precisions)):\n",
    "    if(precisions[i] == recalls[i]):\n",
    "        threshold_optimal = thresholds[i]\n",
    "\n",
    "if(threshold_optimal == -1):\n",
    "    print(\"Find the optimal threshold manually from the precision-recall curve\")\n",
    "else:\n",
    "    print(\"Optimal Threshold: \", threshold_optimal)"
   ]
  },
  {
   "cell_type": "markdown",
   "metadata": {},
   "source": [
    "# Performance Measures for Varying Threshold\n",
    "\n",
    "We have computed the performance measures (precision, recall, F1 score, & confusion matrix) based on the default threshold 0.5.\n",
    "\n",
    "It is possible to improve performance of a classifier (precision and/or recall) by setting its threshold to an optimal value.\n",
    "\n",
    "Below we compare the performance of the classifier based on both the default threshold and the optimal threshold learnt from the precision-recall ucurve."
   ]
  },
  {
   "cell_type": "code",
   "execution_count": 25,
   "metadata": {},
   "outputs": [
    {
     "name": "stdout",
     "output_type": "stream",
     "text": [
      "Performance Measures Based on the Default Threshold:\n",
      "\n",
      "Precision (Default Threshold 0.5) = 0.934783\n",
      "Recall (Default Threshold 0.5) = 0.977273\n",
      "F1 Score (Default Threshold 0.5) = 0.955556\n",
      "Confusion Matrix (Default Threshold 0.5)\n",
      " [[73  3]\n",
      " [ 1 43]]\n",
      "\n",
      "-------------------------------------------------------\n",
      "\n",
      "Performance Measures Based on the Optimal Threshold (from Precision-Recall Curve):\n",
      "\n",
      "Precision (Threshold 0.63) = 0.973684\n",
      "Recall (Threshold 0.63) = 0.840909\n",
      "F1 Score = (Threshold 0.63) = 0.902439\n",
      "Confusion Matrix (Threshold 0.63)\n",
      "[[75  1]\n",
      " [ 7 37]]\n"
     ]
    }
   ],
   "source": [
    "print(\"Performance Measures Based on the Default Threshold:\\n\")\n",
    "\n",
    "\n",
    "y_train_pred = cross_val_predict(knn, X_train, y_train, cv=5)\n",
    "\n",
    "# Precision, Recall, F1 Score and Confusion Matrix for the Default Threshold 0.5\n",
    "precision_train = precision_score(y_train, y_train_pred) \n",
    "print(\"Precision (Default Threshold 0.5) = %f\" % precision_train)\n",
    "\n",
    "recall_train = recall_score(y_train, y_train_pred)\n",
    "print(\"Recall (Default Threshold 0.5) = %f\" % recall_train)\n",
    "\n",
    "\n",
    "f1_train = f1_score(y_train, y_train_pred)\n",
    "print(\"F1 Score (Default Threshold 0.5) = %f\" % f1_train)\n",
    "\n",
    "print(\"Confusion Matrix (Default Threshold 0.5)\\n\", confusion_matrix(y_train, y_train_pred))\n",
    "\n",
    "\n",
    "print(\"\\n-------------------------------------------------------\\n\")\n",
    "print(\"Performance Measures Based on the Optimal Threshold (from Precision-Recall Curve):\")\n",
    "\n",
    "# Precision, Recall, F1 Score and Confusion Matrix for different threshold\n",
    "\n",
    "'''\n",
    "If the previous block doesn't give the optimal threshold, \n",
    "then set the value of \"threshold_optimal\" manually from the precision-recall curve.\n",
    "Otherwise, \"t\" should be assigned the value of \"threshold_optimal\"\n",
    "'''\n",
    "# t = threshold_optimal # optimal threshold from precision-recall curve \n",
    "t = 0.63 # optimal threshold from precision-recall curve \n",
    "\n",
    "# Compute predictions based on new t by using the following method:\n",
    "#  - Get the probability of the positive class from the 2nd column [:, 1]\n",
    "#  - If that probability is greater than or equal to t, then the test data belongs to the positive class\n",
    "y_train_predicted_new = (cross_val_predict(knn, X_train, y_train, method=\"predict_proba\", cv=3)[:,1] > t).astype(int)\n",
    "\n",
    "\n",
    "precision = precision_score(y_train, y_train_predicted_new) \n",
    "print(\"\\nPrecision (Threshold %.2f) = %f\" % (t, precision))\n",
    "\n",
    "recall = recall_score(y_train, y_train_predicted_new)\n",
    "print(\"Recall (Threshold %.2f) = %f\" % (t, recall))\n",
    "\n",
    "\n",
    "f1 = f1_score(y_train, y_train_predicted_new)\n",
    "print(\"F1 Score = (Threshold %.2f) = %f\" % (t, f1))\n",
    "\n",
    "\n",
    "print(\"Confusion Matrix (Threshold %.2f)\" %  t) \n",
    "print(confusion_matrix(y_train, y_train_predicted_new))"
   ]
  },
  {
   "cell_type": "markdown",
   "metadata": {},
   "source": [
    "## Observation from Varying Threshold\n",
    "\n",
    "From the above results we observe that by using the optimal threshold, we can change the performance of a classifier. For example, the optimal threshold improved the precision, but lowered the recall. The F1 score also degraded.\n",
    "\n",
    "For this example, setting threshold to the optimal value doesn't bring much benefit. But it is a useful technique to remember for making optimal tradeoff between precision and recall.\n",
    "\n",
    "\n",
    "## Use the Optimal Threshold for Model Evaluation using the Test Data\n",
    "\n",
    "Below we use the optimal threshold to evaluate the model on the test. We compare it with the default threshold based evaluation."
   ]
  },
  {
   "cell_type": "code",
   "execution_count": 26,
   "metadata": {},
   "outputs": [
    {
     "name": "stdout",
     "output_type": "stream",
     "text": [
      "Test: Performance Measures Based on the Default Threshold:\n",
      "\n",
      "Test Accuracy (Default Threshold 0.5):  1.0\n",
      "\n",
      "Test Precision (Default Threshold 0.5) = 1.000000\n",
      "Test Recall (Default Threshold 0.5) = 1.000000\n",
      "Test F1 Score (Default Threshold 0.5) = 1.000000\n",
      "Test Confusion Matrix (Default Threshold 0.5)\n",
      " [[24  0]\n",
      " [ 0  6]]\n",
      "\n",
      "-------------------------------------------------------\n",
      "\n",
      "Test: Performance Measures Based on the Optimal Threshold (from Precision-Recall Curve):\n",
      "\n",
      "Test Accuracy:  1.0\n",
      "\n",
      "Precision (Threshold 0.63) = 1.000000\n",
      "Recall (Threshold 0.63) = 1.000000\n",
      "F1 Score = (Threshold 0.63) = 1.000000\n",
      "Confusion Matrix (Threshold 0.63)\n",
      "[[24  0]\n",
      " [ 0  6]]\n"
     ]
    }
   ],
   "source": [
    "print(\"Test: Performance Measures Based on the Default Threshold:\\n\")\n",
    "\n",
    "\n",
    "y_test_pred = knn.predict(X_test)\n",
    "\n",
    "test_accuracy_knn = np.mean(y_test == y_test_pred)\n",
    "\n",
    "print(\"Test Accuracy (Default Threshold 0.5): \", test_accuracy_knn)\n",
    "\n",
    "# Precision, Recall, F1 Score and Confusion Matrix for the Default Threshold 0.5\n",
    "precision_test = precision_score(y_test, y_test_pred) \n",
    "print(\"\\nTest Precision (Default Threshold 0.5) = %f\" % precision_test)\n",
    "\n",
    "recall_test = recall_score(y_test, y_test_pred)\n",
    "print(\"Test Recall (Default Threshold 0.5) = %f\" % recall_test)\n",
    "\n",
    "\n",
    "f1_test = f1_score(y_test, y_test_pred)\n",
    "print(\"Test F1 Score (Default Threshold 0.5) = %f\" % f1_test)\n",
    "\n",
    "print(\"Test Confusion Matrix (Default Threshold 0.5)\\n\", confusion_matrix(y_test, y_test_pred))\n",
    "\n",
    "\n",
    "print(\"\\n-------------------------------------------------------\\n\")\n",
    "print(\"Test: Performance Measures Based on the Optimal Threshold (from Precision-Recall Curve):\")\n",
    "\n",
    "# Precision, Recall, F1 Score and Confusion Matrix for different threshold\n",
    "\n",
    "t = 0.63 # optimal threshold from precision-recall curve \n",
    "\n",
    "# Compute predictions based on new t by using the following method:\n",
    "#  - Get the probability of the positive class from the 2nd column [:, 1]\n",
    "#  - If that probability is greater than or equal to t, then the test data belongs to the positive class\n",
    "\n",
    "y_test_predicted = (knn.predict_proba(X_test)[:,1] > t).astype(int)\n",
    "\n",
    "test_accuracy_knn = np.mean(y_test == y_test_predicted)\n",
    "\n",
    "print(\"\\nTest Accuracy: \", test_accuracy_knn)\n",
    "\n",
    "\n",
    "precision = precision_score(y_test, y_test_predicted) \n",
    "print(\"\\nPrecision (Threshold %.2f) = %f\" % (t, precision))\n",
    "\n",
    "recall = recall_score(y_test, y_test_predicted)\n",
    "print(\"Recall (Threshold %.2f) = %f\" % (t, recall))\n",
    "\n",
    "\n",
    "f1 = f1_score(y_test, y_test_predicted)\n",
    "print(\"F1 Score = (Threshold %.2f) = %f\" % (t, f1))\n",
    "\n",
    "print(\"Confusion Matrix (Threshold %.2f)\" %  t) \n",
    "print(confusion_matrix(y_test, y_test_predicted))"
   ]
  }
 ],
 "metadata": {
  "anaconda-cloud": {},
  "kernelspec": {
   "display_name": "Python 3 (ipykernel)",
   "language": "python",
   "name": "python3"
  },
  "language_info": {
   "codemirror_mode": {
    "name": "ipython",
    "version": 3
   },
   "file_extension": ".py",
   "mimetype": "text/x-python",
   "name": "python",
   "nbconvert_exporter": "python",
   "pygments_lexer": "ipython3",
   "version": "3.9.6"
  }
 },
 "nbformat": 4,
 "nbformat_minor": 1
}
